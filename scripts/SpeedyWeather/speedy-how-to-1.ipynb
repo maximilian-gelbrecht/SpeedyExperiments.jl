{
 "cells": [
  {
   "cell_type": "code",
   "execution_count": 1,
   "metadata": {},
   "outputs": [
    {
     "name": "stderr",
     "output_type": "stream",
     "text": [
      "\u001b[32m\u001b[1m  Activating\u001b[22m\u001b[39m project at `~/Nextcloud/SpeedyExperiments/scripts`\n",
      "WARNING: using SpeedyWeather.Parameters in module Main conflicts with an existing identifier.\n"
     ]
    }
   ],
   "source": [
    "import Pkg \n",
    "Pkg.activate(\"..\")\n",
    "\n",
    "using Enzyme, Test, KernelAbstractions, CUDAKernels, CUDA, KernelGradients, BenchmarkTools, LinearAlgebra, Adapt, Parameters, SpeedyWeather"
   ]
  },
  {
   "cell_type": "markdown",
   "metadata": {},
   "source": [
    "# KernelAbstractions and Enzyme with SpeedyWeather\n",
    "\n",
    "Now, we are going to start to work on SpeedyWeather.jl\n",
    "\n",
    "For that, we also already defined some basic structure, you can find it in the `gpu.jl` file of SpeedyWeather.jl, but we'll introduce the most important bits here as well. The version we are working on here is the `kernelabstractions_adtests` branch of SpeedyWeather.jl.\n",
    "\n",
    "First of all, we save information about the device we are using (so either a CPU or GPU) in the `DeviceSetup` struct."
   ]
  },
  {
   "cell_type": "code",
   "execution_count": 2,
   "metadata": {},
   "outputs": [
    {
     "data": {
      "text/latex": [
       "\\begin{verbatim}\n",
       "DeviceSetup{S<:AbstractDevice}\n",
       "\\end{verbatim}\n",
       "Holds information about the device the model is running on and workgroup size. \n",
       "\n",
       "\\begin{itemize}\n",
       "\\item \\texttt{device::AbstractDevice}: Device the model is running on \n",
       "\n",
       "\n",
       "\\item \\texttt{device\\_KA::KernelAbstractions.Device}: Device for use with KernelAbstractions\n",
       "\n",
       "\n",
       "\\item \\texttt{n}: workgroup size  \n",
       "\n",
       "\\end{itemize}\n"
      ],
      "text/markdown": [
       "```\n",
       "DeviceSetup{S<:AbstractDevice}\n",
       "```\n",
       "\n",
       "Holds information about the device the model is running on and workgroup size. \n",
       "\n",
       "  * `device::AbstractDevice`: Device the model is running on\n",
       "  * `device_KA::KernelAbstractions.Device`: Device for use with KernelAbstractions\n",
       "  * `n`: workgroup size\n"
      ],
      "text/plain": [
       "\u001b[36m  DeviceSetup{S<:AbstractDevice}\u001b[39m\n",
       "\n",
       "  Holds information about the device the model is running on and workgroup\n",
       "  size.\n",
       "\n",
       "    •  \u001b[36mdevice::AbstractDevice\u001b[39m: Device the model is running on\n",
       "\n",
       "    •  \u001b[36mdevice_KA::KernelAbstractions.Device\u001b[39m: Device for use with\n",
       "       KernelAbstractions\n",
       "\n",
       "    •  \u001b[36mn\u001b[39m: workgroup size"
      ]
     },
     "execution_count": 2,
     "metadata": {},
     "output_type": "execute_result"
    }
   ],
   "source": [
    "?SpeedyWeather.DeviceSetup"
   ]
  },
  {
   "cell_type": "markdown",
   "metadata": {},
   "source": [
    "For the local tests, we set it to CPU:"
   ]
  },
  {
   "cell_type": "code",
   "execution_count": 3,
   "metadata": {},
   "outputs": [
    {
     "data": {
      "text/plain": [
       "SpeedyWeather.DeviceSetup{SpeedyWeather.CPUDevice, DataType}(SpeedyWeather.CPUDevice(), CPU, 4)"
      ]
     },
     "execution_count": 3,
     "metadata": {},
     "output_type": "execute_result"
    }
   ],
   "source": [
    "const device = SpeedyWeather.DeviceSetup(SpeedyWeather.CPUDevice())"
   ]
  },
  {
   "cell_type": "markdown",
   "metadata": {},
   "source": [
    "Additionally, if needed, we have some wrapper functions that, depending on the device choose the correct array format "
   ]
  },
  {
   "cell_type": "code",
   "execution_count": 4,
   "metadata": {},
   "outputs": [
    {
     "data": {
      "text/latex": [
       "\\begin{verbatim}\n",
       "DeviceArray(device::AbstractDevice, x)\n",
       "\\end{verbatim}\n",
       "Adapts \\texttt{x} to a \\texttt{CuArray} when \\texttt{device<:GPUDevice} is used, otherwise a regular \\texttt{Array}. Uses \\texttt{adapt}, thus also can return SubArrays etc.\n",
       "\n"
      ],
      "text/markdown": [
       "```\n",
       "DeviceArray(device::AbstractDevice, x)\n",
       "```\n",
       "\n",
       "Adapts `x` to a `CuArray` when `device<:GPUDevice` is used, otherwise a regular `Array`. Uses `adapt`, thus also can return SubArrays etc.\n"
      ],
      "text/plain": [
       "\u001b[36m  DeviceArray(device::AbstractDevice, x)\u001b[39m\n",
       "\n",
       "  Adapts \u001b[36mx\u001b[39m to a \u001b[36mCuArray\u001b[39m when \u001b[36mdevice<:GPUDevice\u001b[39m is used, otherwise a regular\n",
       "  \u001b[36mArray\u001b[39m. Uses \u001b[36madapt\u001b[39m, thus also can return SubArrays etc."
      ]
     },
     "execution_count": 4,
     "metadata": {},
     "output_type": "execute_result"
    }
   ],
   "source": [
    "?SpeedyWeather.DeviceArray"
   ]
  },
  {
   "cell_type": "markdown",
   "metadata": {},
   "source": [
    "Given, a `DeviceSetup` we also have a handy way of launching KernelAbstractions kernels  "
   ]
  },
  {
   "cell_type": "code",
   "execution_count": 5,
   "metadata": {},
   "outputs": [
    {
     "data": {
      "text/latex": [
       "\\begin{verbatim}\n",
       "launch_kernel!(device_setup::DeviceSetup, kernel!, ndrange, kernel_args...)\n",
       "\\end{verbatim}\n",
       "Launches the \\texttt{kernel!} on the \\texttt{device\\_setup} with \\texttt{ndrange} computations over the kernel and arguments \\texttt{kernel\\_args}. Returns an event.\n",
       "\n"
      ],
      "text/markdown": [
       "```\n",
       "launch_kernel!(device_setup::DeviceSetup, kernel!, ndrange, kernel_args...)\n",
       "```\n",
       "\n",
       "Launches the `kernel!` on the `device_setup` with `ndrange` computations over the kernel and arguments `kernel_args`. Returns an event.\n"
      ],
      "text/plain": [
       "\u001b[36m  launch_kernel!(device_setup::DeviceSetup, kernel!, ndrange, kernel_args...)\u001b[39m\n",
       "\n",
       "  Launches the \u001b[36mkernel!\u001b[39m on the \u001b[36mdevice_setup\u001b[39m with \u001b[36mndrange\u001b[39m computations over the\n",
       "  kernel and arguments \u001b[36mkernel_args\u001b[39m. Returns an event."
      ]
     },
     "execution_count": 5,
     "metadata": {},
     "output_type": "execute_result"
    }
   ],
   "source": [
    "?SpeedyWeather.launch_kernel!"
   ]
  },
  {
   "cell_type": "markdown",
   "metadata": {},
   "source": [
    "## A few comments to Speedy's internals \n",
    "\n",
    "Speedy is a spectral model. This means most of the computations are performed in the spherical harmonics domain which the variables being expansion coefficient of the spherical harmonics series expansion. For the  coefficients $(l,m)$, $m<=l$ is always valid. This is why one way of representing them would be the lower triangle of a matrix. In SpeedyWeather, we have a specialized format for this `LowerTriangularMatrix`"
   ]
  },
  {
   "cell_type": "code",
   "execution_count": 6,
   "metadata": {},
   "outputs": [
    {
     "data": {
      "text/latex": [
       "\\begin{verbatim}\n",
       "L = LowerTriangularMatrix{T}(v::Vector{T},m::Int,n::Int)\n",
       "\\end{verbatim}\n",
       "A lower triangular matrix implementation that only stores the non-zero entries explicitly. \\texttt{L<:AbstractMatrix} although in general we have \\texttt{L[i] != Matrix(L)[i]}, the former skips zero entries, tha latter includes them.\n",
       "\n",
       "\\rule{\\textwidth}{1pt}\n",
       "\\begin{verbatim}\n",
       "L = LowerTriangularMatrix(M)\n",
       "\\end{verbatim}\n",
       "Create a LowerTriangularMatrix \\texttt{L} from Matrix \\texttt{M} by copying over the non-zero elements in \\texttt{M}.\n",
       "\n"
      ],
      "text/markdown": [
       "```\n",
       "L = LowerTriangularMatrix{T}(v::Vector{T},m::Int,n::Int)\n",
       "```\n",
       "\n",
       "A lower triangular matrix implementation that only stores the non-zero entries explicitly. `L<:AbstractMatrix` although in general we have `L[i] != Matrix(L)[i]`, the former skips zero entries, tha latter includes them.\n",
       "\n",
       "---\n",
       "\n",
       "```\n",
       "L = LowerTriangularMatrix(M)\n",
       "```\n",
       "\n",
       "Create a LowerTriangularMatrix `L` from Matrix `M` by copying over the non-zero elements in `M`.\n"
      ],
      "text/plain": [
       "\u001b[36m  L = LowerTriangularMatrix{T}(v::Vector{T},m::Int,n::Int)\u001b[39m\n",
       "\n",
       "  A lower triangular matrix implementation that only stores the non-zero\n",
       "  entries explicitly. \u001b[36mL<:AbstractMatrix\u001b[39m although in general we have \u001b[36mL[i] !=\n",
       "  Matrix(L)[i]\u001b[39m, the former skips zero entries, tha latter includes them.\n",
       "\n",
       "  ────────────────────────────────────────────────────────────────────────────\n",
       "\n",
       "\u001b[36m  L = LowerTriangularMatrix(M)\u001b[39m\n",
       "\n",
       "  Create a LowerTriangularMatrix \u001b[36mL\u001b[39m from Matrix \u001b[36mM\u001b[39m by copying over the non-zero\n",
       "  elements in \u001b[36mM\u001b[39m."
      ]
     },
     "execution_count": 6,
     "metadata": {},
     "output_type": "execute_result"
    }
   ],
   "source": [
    "?SpeedyWeather.LowerTriangularMatrix"
   ]
  },
  {
   "cell_type": "markdown",
   "metadata": {},
   "source": [
    "which we can also use to iterate over directly with just one index in a for loop, as you will see in just a bit. Aside from that some variables are also applied in grid space where are typically doing a double for loop over the latitudes and longitudes. \n",
    "\n",
    "Speedy computes the atmosphere for several layers at different altitudes. Most computations within Speedy are done on each of these layers seperately. Most variables are therefore internally saved as `Vector{SomethingPerLayer}`\n",
    "\n",
    "\n",
    "But, now let's look at a first example"
   ]
  },
  {
   "cell_type": "markdown",
   "metadata": {},
   "source": [
    "# 1 - Horizontal Diffusion \n",
    "\n",
    "As a fist example, I kind of randomly picked the horizontal diffusion struct / function. \n",
    "\n",
    "But first, we have to load the enviroment, also load a state of SpeedyWeather that we can use "
   ]
  },
  {
   "cell_type": "code",
   "execution_count": 7,
   "metadata": {},
   "outputs": [],
   "source": [
    "progn_vars, diagn_vars, model_setup = initialize_speedy();"
   ]
  },
  {
   "cell_type": "markdown",
   "metadata": {},
   "source": [
    "Per default, we get a barotropic model: "
   ]
  },
  {
   "cell_type": "code",
   "execution_count": 8,
   "metadata": {},
   "outputs": [
    {
     "data": {
      "text/plain": [
       "SpeedyWeather.BarotropicModel{Float32, SpeedyWeather.CPUDevice}(SpeedyWeather.Parameters\n",
       "  NF: Float32 <: AbstractFloat\n",
       "  model: Symbol barotropic\n",
       "  grid: Symbol regular_Gaussian\n",
       "  trunc: Int64 31\n",
       "  nlev: Int64 1\n",
       "  radius_earth: Float64 6.371e6\n",
       "  rotation_earth: Float64 7.29e-5\n",
       "  gravity: Float64 9.81\n",
       "  akap: Float64 0.2857142857142857\n",
       "  cp: Int64 1004\n",
       "  R_gas: Float64 286.85714285714283\n",
       "  alhc: Int64 2501\n",
       "  alhs: Int64 2801\n",
       "  sbc: Float64 5.67e-8\n",
       "  lapse_rate: Int64 6\n",
       "  temp_ref: Int64 288\n",
       "  temp_top: Int64 216\n",
       "  scale_height: Float64 7.5\n",
       "  pres_ref: Int64 1013\n",
       "  scale_height_humid: Float64 2.5\n",
       "  relhumid_ref: Float64 0.7\n",
       "  water_pres_ref: Int64 17\n",
       "  layer_thickness: Int64 10\n",
       "  GLcoefs: SpeedyWeather.GenLogisticCoefs{Float64}\n",
       "  n_stratosphere_levels: Int64 2\n",
       "  diffusion_power: Int64 4\n",
       "  diffusion_time: Float64 2.4\n",
       "  diffusion_time_div: Float64 2.4\n",
       "  diffusion_time_strat: Int64 12\n",
       "  damping_time_strat: Int64 720\n",
       "  seasonal_cycle: Bool true\n",
       "  n_shortwave: Int64 3\n",
       "  sppt_on: Bool false\n",
       "  magnus_coefs: SpeedyWeather.MagnusCoefs{Float64}\n",
       "  k_lsc: Int64 2\n",
       "  RH_thresh_boundary: Float64 0.95\n",
       "  RH_thresh_range: Float64 0.1\n",
       "  RH_thresh_max: Float64 0.9\n",
       "  humid_relax_time: Float64 4.0\n",
       "  Δt_at_T85: Int64 20\n",
       "  n_days: Int64 10\n",
       "  robert_filter: Float64 0.05\n",
       "  williams_filter: Float64 0.53\n",
       "  implicit_α: Float64 0.5\n",
       "  recompute_legendre: Bool false\n",
       "  boundary_path: String \"\"\n",
       "  orography_path: String \"\"\n",
       "  orography_file: String \"orography_F512.nc\"\n",
       "  initial_conditions: Symbol barotropic_vorticity\n",
       "  verbose: Bool true\n",
       "  output: Bool false\n",
       "  output_dt: Int64 6\n",
       "  output_startdate: Dates.DateTime\n",
       "  out_path: String \"/Users/max/Nextcloud/SpeedyExperiments/scripts/SpeedyWeather\"\n",
       "  output_vars: Array{String}((5,))\n",
       "  compression_level: Int64 3\n",
       "  keepbits: Int64 7\n",
       "  version: VersionNumber\n",
       "  write_restart: Bool false\n",
       "  restart_path: String \"/Users/max/Nextcloud/SpeedyExperiments/scripts/SpeedyWeather\"\n",
       "  restart_id: Int64 1\n",
       ", Constants{Float32}\n",
       "  radius_earth: Float32 6.371f6\n",
       "  rotation_earth: Float32 7.29f-5\n",
       "  gravity: Float32 9.81f0\n",
       "  akap: Float32 0.2857143f0\n",
       "  R_gas: Float32 286.85715f0\n",
       "  layer_thickness: Float32 10000.0f0\n",
       "  Δt: Float32 0.0005164025f0\n",
       "  Δt_unscaled: Float32 3290.0f0\n",
       "  Δt_sec: Int64 3290\n",
       "  Δt_hrs: Float64 0.9138888888888889\n",
       "  robert_filter: Float32 0.05f0\n",
       "  williams_filter: Float32 0.53f0\n",
       "  n_timesteps: Int64 263\n",
       "  output_every_n_steps: Int64 6\n",
       "  n_outputsteps: Int64 44\n",
       "  drag_strat: Float32 3.8580248f-7\n",
       "  RH_thresh_boundary: Float32 0.95f0\n",
       "  RH_thresh_range: Float32 0.1f0\n",
       "  RH_thresh_max: Float32 0.9f0\n",
       "  humid_relax_time: Float32 4.0f0\n",
       ", Geometry{Float32}(96, 48, 1, 24, 48, 6.371e6, 3.75f0, 3.75f0, Float32[0.0, 0.06544985, 0.1308997, 0.19634955, 0.2617994, 0.32724923, 0.3926991, 0.45814893, 0.5235988, 0.5890486  …  5.628687, 5.6941366, 5.7595863, 5.8250365, 5.8904862, 5.955936, 6.021386, 6.086836, 6.1522856, 6.2177353], [0.0, 3.75, 7.5, 11.25, 15.0, 18.75, 22.5, 26.25, 30.0, 33.75  …  322.5, 326.25, 330.0, 333.75, 337.5, 341.25, 345.0, 348.75, 352.5, 356.25], Float32[1.5212132, 1.4569823, 1.3923721, 1.3276762, 1.2629478, 1.1982037, 1.1334509, 1.0686926, 1.0039307, 0.9391664  …  -0.9391664, -1.0039307, -1.0686926, -1.1334509, -1.1982037, -1.2629478, -1.3276762, -1.3923721, -1.4569823, -1.5212132], [87.15909455586298, 83.47893666931716, 79.77704565482563, 76.07024446254513, 72.36158102934485, 68.65201678951749, 64.94194948875752, 61.231573188077135, 57.520993797969965, 53.810274031941425  …  -53.810274031941425, -57.520993797969965, -61.231573188077135, -64.94194948875752, -68.65201678951749, -72.36158102934485, -76.07024446254513, -79.77704565482563, -83.47893666931716, -87.15909455586298], Float32[0.049583152, 0.113814026, 0.17842421, 0.2431201, 0.30784848, 0.3725926, 0.43734547, 0.50210375, 0.5668656, 0.6316299  …  2.5099628, 2.574727, 2.639489, 2.7042472, 2.769, 2.833744, 2.8984725, 2.9631684, 3.0277786, 3.0920095], [2.840905444137036, 6.521063330682836, 10.222954345174344, 13.929755537454866, 17.638418970655152, 21.34798321048254, 25.05805051124247, 28.768426811922865, 32.479006202030035, 36.18972596805858  …  143.81027403194142, 147.52099379796996, 151.23157318807714, 154.94194948875753, 158.6520167895175, 162.36158102934485, 166.07024446254513, 169.77704565482563, 173.47893666931716, 177.15909455586296], 2, Float32[0.0, 1.0], Float32[0.5], Float32[1.0], Float32[0.5], Float32[0.2857143], Float32[0.998771, 0.99353015, 0.9841246, 0.9705916, 0.95298773, 0.9313867, 0.90587914, 0.876572, 0.84358823, 0.8070662  …  -0.8070662, -0.84358823, -0.876572, -0.90587914, -0.9313867, -0.95298773, -0.9705916, -0.9841246, -0.99353015, -0.998771], Float32[0.049562838, 0.11356847, 0.17747903, 0.24073213, 0.30300897, 0.36403137, 0.4235363, 0.4812707, 0.5369905, 0.59046096  …  0.59046096, 0.5369905, 0.4812707, 0.4235363, 0.36403137, 0.30300897, 0.24073213, 0.17747903, 0.11356847, 0.049562838], Float32[20.176407, 8.805261, 5.6344686, 4.1539946, 3.3002324, 2.747016, 2.3610728, 2.0778327, 1.8622302, 1.6935921  …  1.6935921, 1.8622302, 2.0778327, 2.3610728, 2.747016, 3.3002324, 4.1539946, 5.6344686, 8.805261, 20.176407], Float32[0.002456475, 0.012897797, 0.031498805, 0.05795196, 0.091814436, 0.13251883, 0.179383, 0.23162149, 0.28835884, 0.34864414  …  0.34864414, 0.28835884, 0.23162149, 0.179383, 0.13251883, 0.091814436, 0.05795196, 0.031498805, 0.012897797, 0.002456475], Float32[407.08737, 77.53262, 31.747238, 17.255672, 10.891533, 7.5460973, 5.5746646, 4.3173885, 3.4679012, 2.8682542  …  2.8682542, 3.4679012, 4.3173885, 5.5746646, 7.5460973, 10.891533, 17.255672, 31.747238, 77.53262, 407.08737], Float32[927.7502, 922.882, 914.14526, 901.5746, 885.2225, 865.1575, 841.4637, 814.24054, 783.60223, 749.6772  …  -749.6772, -783.60223, -814.24054, -841.4637, -865.1575, -885.2225, -901.5746, -914.14526, -922.882, -927.7502], Float32[Inf], Float32[0.0], Float32[0.0]), SpectralTransform{Float32}(31, 31, 49, 6.371e6, 96, 48, 24, Float32[0.049583152, 0.113814026, 0.17842421, 0.2431201, 0.30784848, 0.3725926, 0.43734547, 0.50210375, 0.5668656, 0.6316299  …  2.5099628, 2.574727, 2.639489, 2.7042472, 2.769, 2.833744, 2.8984725, 2.9631684, 3.0277786, 3.0920095], Float32[0.998771, 0.99353015, 0.9841246, 0.9705916, 0.95298773, 0.9313867, 0.90587914, 0.876572, 0.84358823, 0.8070662  …  -0.8070662, -0.84358823, -0.876572, -0.90587914, -0.9313867, -0.95298773, -0.9705916, -0.9841246, -0.99353015, -0.998771], Float32[0.049562838, 0.11356847, 0.17747903, 0.24073213, 0.30300897, 0.36403137, 0.4235363, 0.4812707, 0.5369905, 0.59046096  …  0.59046096, 0.5369905, 0.4812707, 0.4235363, 0.36403137, 0.30300897, 0.24073213, 0.17747903, 0.11356847, 0.049562838], 0.032724924f0, 3.5449078f0, 0.06544985f0, FFTW real-to-complex plan for 96-element array of Float32\n",
       "(rdft2-ct-dit/32\n",
       "  (hc2c-direct-32/124/1 \"hc2cfdftv_32_avx2_128\"\n",
       "    (rdft2-ct-dit/2\n",
       "      (hc2c-direct-2/4/1 \"hc2cfdftv_2_avx2_128\"\n",
       "        (rdft2-r2hc-direct-2 \"r2cf_2\")\n",
       "        (rdft2-r2hc01-direct-2 \"r2cfII_2\"))\n",
       "      (dft-direct-16 \"n1fv_16_avx2_128\"))\n",
       "    (rdft2-nop))\n",
       "  (dft-direct-3-x16 \"n1fv_3_avx2_128\")), FFTW complex-to-real plan for 49-element array of ComplexF32\n",
       "(rdft2-buffered-96/1-2\n",
       "  (rdft2-ct-dif/32\n",
       "    (hc2c-direct-32/124/1 \"hc2cbdftv_32_avx2_128\"\n",
       "      (rdft2-ct-dif/2\n",
       "        (hc2c-direct-2/4/1 \"hc2cbdftv_2_avx2_128\"\n",
       "          (rdft2-hc2r-direct-2 \"r2cb_2\")\n",
       "          (rdft2-hc2r10-direct-2 \"r2cbIII_2\"))\n",
       "        (dft-direct-16 \"n1bv_16_avx2_128\"))\n",
       "      (rdft2-nop))\n",
       "    (dft-direct-3-x16 \"n1bv_3_avx2_128\"))\n",
       "  (dft-r2hc-1\n",
       "    (rdft-rank0-iter-ci/98))\n",
       "  (rdft2-nop)), ComplexF32[0.0f0 + 0.0f0im, 0.0f0 + 0.0f0im, 0.0f0 + 0.0f0im, 0.0f0 + 0.0f0im, 0.0f0 + 0.0f0im, 0.0f0 + 0.0f0im, 0.0f0 + 0.0f0im, 0.0f0 + 0.0f0im, 0.0f0 + 0.0f0im, 0.0f0 + 0.0f0im  …  0.0f0 + 0.0f0im, 0.0f0 + 0.0f0im, 0.0f0 + 0.0f0im, 0.0f0 + 0.0f0im, 0.0f0 + 0.0f0im, 0.0f0 + 0.0f0im, 0.0f0 + 0.0f0im, 0.0f0 + 0.0f0im, 0.0f0 + 0.0f0im, 0.0f0 + 0.0f0im], ComplexF32[0.0f0 + 0.0f0im, 0.0f0 + 0.0f0im, 0.0f0 + 0.0f0im, 0.0f0 + 0.0f0im, 0.0f0 + 0.0f0im, 0.0f0 + 0.0f0im, 0.0f0 + 0.0f0im, 0.0f0 + 0.0f0im, 0.0f0 + 0.0f0im, 0.0f0 + 0.0f0im  …  0.0f0 + 0.0f0im, 0.0f0 + 0.0f0im, 0.0f0 + 0.0f0im, 0.0f0 + 0.0f0im, 0.0f0 + 0.0f0im, 0.0f0 + 0.0f0im, 0.0f0 + 0.0f0im, 0.0f0 + 0.0f0im, 0.0f0 + 0.0f0im, 0.0f0 + 0.0f0im], ComplexF32[0.0f0 + 0.0f0im, 0.0f0 + 0.0f0im, 0.0f0 + 0.0f0im, 0.0f0 + 0.0f0im, 0.0f0 + 0.0f0im, 0.0f0 + 0.0f0im, 0.0f0 + 0.0f0im, 0.0f0 + 0.0f0im, 0.0f0 + 0.0f0im, 0.0f0 + 0.0f0im  …  0.0f0 + 0.0f0im, 0.0f0 + 0.0f0im, 0.0f0 + 0.0f0im, 0.0f0 + 0.0f0im, 0.0f0 + 0.0f0im, 0.0f0 + 0.0f0im, 0.0f0 + 0.0f0im, 0.0f0 + 0.0f0im, 0.0f0 + 0.0f0im, 0.0f0 + 0.0f0im], ComplexF32[0.0f0 + 0.0f0im, 0.0f0 + 0.0f0im, 0.0f0 + 0.0f0im, 0.0f0 + 0.0f0im, 0.0f0 + 0.0f0im, 0.0f0 + 0.0f0im, 0.0f0 + 0.0f0im, 0.0f0 + 0.0f0im, 0.0f0 + 0.0f0im, 0.0f0 + 0.0f0im  …  0.0f0 + 0.0f0im, 0.0f0 + 0.0f0im, 0.0f0 + 0.0f0im, 0.0f0 + 0.0f0im, 0.0f0 + 0.0f0im, 0.0f0 + 0.0f0im, 0.0f0 + 0.0f0im, 0.0f0 + 0.0f0im, 0.0f0 + 0.0f0im, 0.0f0 + 0.0f0im], false, [0.0 0.0 … 0.0 0.0; 0.0 0.0 … 0.0 0.0; … ; 0.0 0.0 … 0.0 0.0; 0.0 0.0 … 0.0 0.0], LowerTriangularMatrix{Float32}[[0.2820948 0.0 … 0.0 0.0; 0.48800203 -0.017123671 … 0.0 0.0; … ; 1.0682936 -1.267103 … 4.003217f-39 -2.5229f-41; 1.0209988 -1.2988745 … 2.2611274f-38 -2.03155f-40], [0.2820948 0.0 … 0.0 0.0; 0.48544133 -0.039237242 … 0.0 0.0; … ; -0.87489265 -0.22834541 … 2.5302986f-28 -3.673268f-30; -0.9088482 -0.12396469 … 1.42144f-27 -2.942323f-29], [0.2820948 0.0 … 0.0 0.0; 0.48084575 -0.061317965 … 0.0 0.0; … ; 0.075969025 0.7466241 … 1.6433071f-22 -3.7637418f-24; 0.20841768 0.709887 … 9.141305f-22 -2.9862528f-23], [0.2820948 0.0 … 0.0 0.0; 0.47423348 -0.08317155 … 0.0 0.0; … ; 0.5442655 -0.38729477 … 1.5181555f-18 -4.7820924f-20; 0.44336793 -0.5011276 … 8.325089f-18 -3.7420635f-19], [0.2820948 0.0 … 0.0 0.0; 0.4656322 -0.104687825 … 0.0 0.0; … ; -0.49993944 -0.26534852 … 1.4825513f-15 -5.986625f-17; -0.5643226 -0.09742864 … 7.977293f-15 -4.599663f-16], [0.2820948 0.0 … 0.0 0.0; 0.4550779 -0.1257707 … 0.0 0.0; … ; -0.028682142 0.5282667 … 3.5608344f-13 -1.7675214f-14; 0.16512306 0.49483192 … 1.8710168f-12 -1.327246f-13], [0.2820948 0.0 … 0.0 0.0; 0.44261482 -0.14632931 … 0.0 0.0; … ; 0.4472076 -0.21297605 … 3.251224f-11 -1.930507f-12; 0.3213155 -0.37939197 … 1.6597798f-10 -1.4099325f-11], [0.2820948 0.0 … 0.0 0.0; 0.42829528 -0.16627622 … 0.0 0.0; … ; -0.35543552 -0.27989322 … 1.4545485f-9 -1.0142247f-10; -0.45114267 -0.07043881 … 7.1757347f-9 -7.1676776f-10], [0.2820948 0.0 … 0.0 0.0; 0.41217935 -0.18552709 … 0.0 0.0; … ; -0.09227709 0.4269031 … 3.7444448f-8 -3.0271063f-9; 0.15011624 0.40410784 … 1.7747514f-7 -2.0588034f-8], [0.2820948 0.0 … 0.0 0.0; 0.39433458 -0.2040008 … 0.0 0.0; … ; 0.40067333 -0.113599956 … 6.178777f-7 -5.7410148f-8; 0.26140296 -0.32689932 … 2.795846f-6 -3.7355497f-7]  …  [0.2820948 0.0 … 0.0 0.0; 0.28203344 -0.28212544 … 0.0 0.0; … ; -0.17988119 0.30493066 … 0.0074071307 -0.001330794; 0.14347301 0.3202068 … 0.02339981 -0.006193162], [0.2820948 0.0 … 0.0 0.0; 0.25561777 -0.29444182 … 0.0 0.0; … ; 0.3440181 0.019456564 … 0.024191178 -0.0050047757; 0.19938873 -0.28323337 … 0.06851123 -0.021109438], [0.2820948 0.0 … 0.0 0.0; 0.22812994 -0.30552346 … 0.0 0.0; … ; -0.13293642 -0.31024092 … 0.06540329 -0.015731893; -0.33732656 -0.025020294 … 0.16270834 -0.059219435], [0.2820948 0.0 … 0.0 0.0; 0.19968525 -0.31532383 … 0.0 0.0; … ; -0.21395697 0.25697586 … 0.14761494 -0.041865885; 0.14565879 0.2987135 … 0.31373936 -0.13794541], [0.2820948 0.0 … 0.0 0.0; 0.170403 -0.32380182 … 0.0 0.0; … ; 0.32029936 0.072302416 … 0.27921373 -0.09529233; 0.18121155 -0.27543637 … 0.48656753 -0.26793915], [0.2820948 0.0 … 0.0 0.0; 0.14040603 -0.33092186 … 0.0 0.0; … ; -0.078006536 -0.31543842 … 0.44180512 -0.18702067; -0.32482806 -0.014504717 … 0.58934534 -0.43328768], [0.2820948 0.0 … 0.0 0.0; 0.10982015 -0.3366541 … 0.0 0.0; … ; -0.24410637 0.21161379 … 0.57846874 -0.31849375; 0.15041779 0.28474298 … 0.5124123 -0.57714367], [0.2820948 0.0 … 0.0 0.0; 0.07877365 -0.34097442 … 0.0 0.0; … ; 0.29645196 0.120782755 … 0.6082982 -0.47290787; 0.16772053 -0.27347335 … 0.21941793 -0.6146933], [0.2820948 0.0 … 0.0 0.0; 0.047396738 -0.34386477 … 0.0 0.0; … ; -0.025733275 -0.31804407 … 0.47147664 -0.61435384; -0.3190012 -0.0047551114 … -0.18051973 -0.4804719], [0.2820948 0.0 … 0.0 0.0; 0.015821032 -0.34531298 … 0.0 0.0; … ; -0.27133545 0.16673069 … 0.17852667 -0.6998425; 0.15767767 0.27657342 … -0.4697008 -0.18269898]], Float32[0.00020638602, 0.0004795873, 0.00075118325, 0.0010196639, 0.0012838747, 0.0015427027, 0.0017950608, 0.0020398903, 0.0022761638, 0.0025028905  …  0.0034616548, 0.003612799, 0.00374879, 0.0038690572, 0.003973096, 0.004060471, 0.004130814, 0.0041838316, 0.0042193006, 0.0042370725], Float32[-0.0 0.0 … 0.0 0.0; 0.57735026 0.0 … 0.0 0.0; … ; 0.50006104 0.4998168 … 0.17401388 0.12403473; 0.5000574 0.49982774 … 0.20832281 0.1714395], ComplexF32[0.0f0 + 0.0f0im, 0.0f0 + 1.0f0im, 0.0f0 + 2.0f0im, 0.0f0 + 3.0f0im, 0.0f0 + 4.0f0im, 0.0f0 + 5.0f0im, 0.0f0 + 6.0f0im, 0.0f0 + 7.0f0im, 0.0f0 + 8.0f0im, 0.0f0 + 9.0f0im  …  0.0f0 + 23.0f0im, 0.0f0 + 24.0f0im, 0.0f0 + 25.0f0im, 0.0f0 + 26.0f0im, 0.0f0 + 27.0f0im, 0.0f0 + 28.0f0im, 0.0f0 + 29.0f0im, 0.0f0 + 30.0f0im, 0.0f0 + 31.0f0im, 0.0f0 + 32.0f0im], Float32[-0.0 0.0 … 0.0 0.0; 0.0 0.0 … 0.0 0.0; … ; -15.001951 -14.994144 … -3.7796447 -0.0; -15.501892 -15.494321 … -5.39443 -3.8450768], Float32[1.1547005 0.0 … 0.0 0.0; 1.5491934 1.3416408 … 0.0 0.0; … ; 16.502014 16.493956 … 5.742458 4.0931463; 17.001951 16.994144 … 7.0829754 5.8289433], Float32[-0.0 0.0 … 0.0 0.0; 1.1547005 0.0 … 0.0 0.0; … ; 16.00208 15.993753 … 4.031621 0.0; 16.502014 16.493956 … 5.742458 4.0931463], Float32[0.0 0.0 … 0.0 0.0; 0.5163978 0.4472136 … 0.0 0.0; … ; 15.501892 15.494321 … 5.39443 3.8450768; 16.001837 15.994488 … 6.66633 5.486064], Float32[0.0 0.0 … 0.0 0.0; 0.0 -0.5 … 0.0 0.0; … ; 0.0 -0.0010080645 … -0.030241935 -0.03125; 0.0 -0.0009469697 … -0.028409092 -0.02935606], Float32[0.0 0.0 … 0.0 0.0; 0.57735026 0.0 … 0.0 0.0; … ; 0.016131131 0.016122736 … 0.0040641343 0.0; 0.015626907 0.015619275 … 0.005437934 0.0038760854], Float32[0.57735026 0.0 … 0.0 0.0; 0.2581989 0.2236068 … 0.0 0.0; … ; 0.015626907 0.015619275 … 0.005437934 0.0038760854; 0.015153254 0.015146296 … 0.006312812 0.0051951366], Float32[0.0, -2.0, -6.0, -12.0, -20.0, -30.0, -42.0, -56.0, -72.0, -90.0  …  -552.0, -600.0, -650.0, -702.0, -756.0, -812.0, -870.0, -930.0, -992.0, -1056.0], Float32[0.0, -0.5, -0.16666667, -0.083333336, -0.05, -0.033333335, -0.023809524, -0.017857144, -0.013888889, -0.011111111  …  -0.0018115942, -0.0016666667, -0.0015384615, -0.0014245014, -0.0013227513, -0.0012315271, -0.0011494253, -0.0010752688, -0.0010080645, -0.0009469697]), SpeedyWeather.HorizontalDiffusion{Float32}(Float32[0.0 0.0 … 0.0 0.0; 1.2183362f-8 1.2183362f-8 … 0.0 0.0; … ; 737.3843 737.3843 … 737.3843 737.3843; 0.0 0.0 … 0.0 0.0], Float32[0.0 0.0 … 0.0 0.0; 1.2183362f-8 1.2183362f-8 … 0.0 0.0; … ; 737.3843 737.3843 … 737.3843 737.3843; 0.0 0.0 … 0.0 0.0], Float32[0.0 0.0 … 0.0 0.0; 0.29733238 0.29733238 … 0.0 0.0; … ; 147.47685 147.47685 … 147.47685 147.47685; 0.0 0.0 … 0.0 0.0], Float32[1.0 0.0 … 0.0 0.0; 1.0 1.0 … 0.0 0.0; … ; 0.5676741 0.5676741 … 0.5676741 0.5676741; 0.0 0.0 … 0.0 0.0], Float32[1.0 0.0 … 0.0 0.0; 1.0 1.0 … 0.0 0.0; … ; 0.5676741 0.5676741 … 0.5676741 0.5676741; 0.0 0.0 … 0.0 0.0], Float32[1.0 0.0 … 0.0 0.0; 0.99969304 0.99969304 … 0.0 0.0; … ; 0.8678184 0.8678184 … 0.8678184 0.8678184; 0.0 0.0 … 0.0 0.0], Float32[], Float32[], 0×0 LowerTriangularMatrix{ComplexF32}, 0×0 LowerTriangularMatrix{ComplexF32}), SpeedyWeather.DeviceSetup{SpeedyWeather.CPUDevice, DataType}(SpeedyWeather.CPUDevice(), CPU, 4))"
      ]
     },
     "execution_count": 8,
     "metadata": {},
     "output_type": "execute_result"
    }
   ],
   "source": [
    "model_setup"
   ]
  },
  {
   "cell_type": "markdown",
   "metadata": {},
   "source": [
    "So, we want to look into rewriting/adjusting `horizontal_diffusion!` here as an example. First, we will look up how this function is called given an initialized model. Looking up the source code we can see that the function signature is \n",
    "\n",
    "```julia\n",
    "function horizontal_diffusion!( tendency::LowerTriangularMatrix{Complex{NF}},   # tendency of a \n",
    "                                A::LowerTriangularMatrix{Complex{NF}},          # spectral horizontal field\n",
    "                                damp_expl::LowerTriangularMatrix{NF},           # explicit spectral damping\n",
    "                                damp_impl::LowerTriangularMatrix{NF}            # implicit spectral damping\n",
    "                                ) where {NF<:AbstractFloat}\n",
    "```\n",
    "\n",
    "and it is called in the timestepping routine \n",
    "\n",
    "```julia\n",
    "\n",
    "    # LOOP OVER LAYERS FOR DIFFUSION, LEAPFROGGING AND PROPAGATE STATE TO GRID\n",
    "    for (progn_layer,diagn_layer) in zip(progn.layers,diagn.layers)\n",
    "        get_tendencies!(diagn_layer,M)                      # tendency of vorticity\n",
    "        horizontal_diffusion!(progn_layer,diagn_layer,M)    # diffusion for vorticity\n",
    "        leapfrog!(progn_layer,diagn_layer,dt,lf1,M)         # leapfrog vorticity forward\n",
    "        gridded!(diagn_layer,progn_layer,lf2,M)             # propagate spectral state to grid\n",
    "    end\n",
    "```\n",
    "\n",
    "\n",
    "via this intermediate function: \n",
    "\n",
    "```julia\n",
    "\n",
    "function horizontal_diffusion!( progn::PrognosticVariablesLeapfrog,\n",
    "                                diagn::DiagnosticVariablesLayer,\n",
    "                                M::BarotropicModel,\n",
    "                                lf::Int=1,                          # leapfrog index used (2 is unstable)\n",
    "                                )\n",
    "\n",
    "    @unpack damping, damping_impl = M.horizontal_diffusion\n",
    "    @unpack vor = progn.leapfrog[lf]\n",
    "    @unpack vor_tend = diagn.tendencies\n",
    "\n",
    "    horizontal_diffusion!(vor_tend,vor,damping,damping_impl)    # diffusion of vorticity\n",
    "end\n",
    "\n",
    "```\n",
    "\n",
    "in which `progn` is an instance of the `PrognosticVariables` like the `progn_vars` we intialized, `diagn` is an instance of `DiagnosticVariables` like the `diagn_vars` we initialized and `M` is the `model_setup`  \n"
   ]
  },
  {
   "cell_type": "markdown",
   "metadata": {},
   "source": [
    "Let's call it once, so we can later also cross-check our new version later. We have to explicitly add `SpeedyWeather` a few times as those functions are not exported (but only in this notebook, not later in the actual package)."
   ]
  },
  {
   "cell_type": "code",
   "execution_count": 9,
   "metadata": {},
   "outputs": [],
   "source": [
    "M = model_setup \n",
    "diagn = diagn_vars.layers[1]\n",
    "progn = progn_vars.layers[1] \n",
    "lf = 1\n",
    "NF = Float32\n",
    "\n",
    "SpeedyWeather.get_tendencies!(diagn, M)   \n",
    "\n",
    "@unpack vor = progn.leapfrog[lf]\n",
    "@unpack vor_tend = diagn.tendencies\n",
    "@unpack damping, damping_impl = M.horizontal_diffusion\n",
    "                                      \n",
    "# we have to convert everything to CuArrays, incase we are on GPU \n",
    "\n",
    "vor_tend = SpeedyWeather.DeviceArray(device, vor_tend)\n",
    "vor = SpeedyWeather.DeviceArray(device, vor)\n",
    "damping = SpeedyWeather.DeviceArray(device, damping)\n",
    "damping_impl = SpeedyWeather.DeviceArray(device, damping_impl)\n",
    "\n",
    "SpeedyWeather.horizontal_diffusion!(vor_tend,vor,damping,damping_impl)"
   ]
  },
  {
   "cell_type": "markdown",
   "metadata": {},
   "source": [
    "Now, that we know how to call the function, let's rewrite it to work on GPU and with Enzyme! "
   ]
  },
  {
   "cell_type": "markdown",
   "metadata": {},
   "source": [
    "First, we inspect the old version: \n",
    "\n",
    "\n",
    "```julia \n",
    "function horizontal_diffusion!( tendency::LowerTriangularMatrix{Complex{NF}},   # tendency of a \n",
    "                                A::LowerTriangularMatrix{Complex{NF}},          # spectral horizontal field\n",
    "                                damp_expl::LowerTriangularMatrix{NF},           # explicit spectral damping\n",
    "                                damp_impl::LowerTriangularMatrix{NF}            # implicit spectral damping\n",
    "                                ) where {NF<:AbstractFloat}\n",
    "    \n",
    "    for lm in eachharmonic(tendency,A,damp_expl,damp_impl)\n",
    "        @inbounds tendency[lm] = (tendency[lm] - damp_expl[lm]*A[lm])*damp_impl[lm]\n",
    "    end\n",
    "end\n",
    "```"
   ]
  },
  {
   "cell_type": "markdown",
   "metadata": {},
   "source": [
    "`eachharmonic` just returns a unit range over all elements of the `LowerTriangularMatrix`, but also performs some bounds checks. We can't use `eachharmonic` within the kernels, so we have to do the bounds checks again in the function as well. "
   ]
  },
  {
   "cell_type": "code",
   "execution_count": 10,
   "metadata": {},
   "outputs": [
    {
     "data": {
      "text/latex": [
       "\\begin{verbatim}\n",
       "unit_range = eachharmonic(L::LowerTriangular)\n",
       "\\end{verbatim}\n",
       "creates \\texttt{unit\\_range::UnitRange} to loop over all non-zeros in a LowerTriangularMatrix \\texttt{L}. Like \\texttt{eachindex} but skips the upper triangle with zeros in \\texttt{L}.\n",
       "\n",
       "\\rule{\\textwidth}{1pt}\n",
       "\\begin{verbatim}\n",
       "unit_range = eachharmonic(Ls::LowerTriangularMatrix...)\n",
       "\\end{verbatim}\n",
       "creates \\texttt{unit\\_range::UnitRange} to loop over all non-zeros in the LowerTriangularMatrices provided as arguments. Checks bounds first. All LowerTriangularMatrixs need to be of the same size. Like \\texttt{eachindex} but skips the upper triangle with zeros in \\texttt{L}.\n",
       "\n"
      ],
      "text/markdown": [
       "```\n",
       "unit_range = eachharmonic(L::LowerTriangular)\n",
       "```\n",
       "\n",
       "creates `unit_range::UnitRange` to loop over all non-zeros in a LowerTriangularMatrix `L`. Like `eachindex` but skips the upper triangle with zeros in `L`.\n",
       "\n",
       "---\n",
       "\n",
       "```\n",
       "unit_range = eachharmonic(Ls::LowerTriangularMatrix...)\n",
       "```\n",
       "\n",
       "creates `unit_range::UnitRange` to loop over all non-zeros in the LowerTriangularMatrices provided as arguments. Checks bounds first. All LowerTriangularMatrixs need to be of the same size. Like `eachindex` but skips the upper triangle with zeros in `L`.\n"
      ],
      "text/plain": [
       "\u001b[36m  unit_range = eachharmonic(L::LowerTriangular)\u001b[39m\n",
       "\n",
       "  creates \u001b[36munit_range::UnitRange\u001b[39m to loop over all non-zeros in a\n",
       "  LowerTriangularMatrix \u001b[36mL\u001b[39m. Like \u001b[36meachindex\u001b[39m but skips the upper triangle with\n",
       "  zeros in \u001b[36mL\u001b[39m.\n",
       "\n",
       "  ────────────────────────────────────────────────────────────────────────────\n",
       "\n",
       "\u001b[36m  unit_range = eachharmonic(Ls::LowerTriangularMatrix...)\u001b[39m\n",
       "\n",
       "  creates \u001b[36munit_range::UnitRange\u001b[39m to loop over all non-zeros in the\n",
       "  LowerTriangularMatrices provided as arguments. Checks bounds first. All\n",
       "  LowerTriangularMatrixs need to be of the same size. Like \u001b[36meachindex\u001b[39m but skips\n",
       "  the upper triangle with zeros in \u001b[36mL\u001b[39m."
      ]
     },
     "execution_count": 10,
     "metadata": {},
     "output_type": "execute_result"
    }
   ],
   "source": [
    "?SpeedyWeather.eachharmonic"
   ]
  },
  {
   "cell_type": "markdown",
   "metadata": {},
   "source": [
    "So, `horizontal_diffusion!` just consists of bounds checks and a for loop. We'll have to write a kernel for the loop and then call this kernel from a wrapper function that also includes the bounds checks "
   ]
  },
  {
   "cell_type": "markdown",
   "metadata": {},
   "source": [
    "Great! So, now let's write the horizontal diffusion kernel. In this case we are working with a `LowerTriangularMatrix` and loop only over one index, that's why we use `lm = @index(Global, Linear)`, in other cases we would need `i, j = @index(Global, NTuple)`. In this case the only array that we actually assign new values is `tendency`, all other are therefore `@Const`. \n",
    "\n"
   ]
  },
  {
   "cell_type": "code",
   "execution_count": 11,
   "metadata": {},
   "outputs": [
    {
     "data": {
      "text/plain": [
       "horizontal_diffusion_kernel! (generic function with 5 methods)"
      ]
     },
     "execution_count": 11,
     "metadata": {},
     "output_type": "execute_result"
    }
   ],
   "source": [
    "@kernel function horizontal_diffusion_kernel!(tendency, @Const(A), @Const(damp_expl), @Const(damp_impl))\n",
    "    lm = @index(Global, Linear)\n",
    "   \n",
    "    tendency[lm] = (tendency[lm] - damp_expl[lm]*A[lm])*damp_impl[lm]\n",
    "end"
   ]
  },
  {
   "cell_type": "code",
   "execution_count": 12,
   "metadata": {},
   "outputs": [
    {
     "data": {
      "text/plain": [
       "560"
      ]
     },
     "execution_count": 12,
     "metadata": {},
     "output_type": "execute_result"
    }
   ],
   "source": [
    "length(vor)"
   ]
  },
  {
   "cell_type": "markdown",
   "metadata": {},
   "source": [
    "We take the bounds checks from the old version an integrate now the kernel and launch it with `launch_kernel!` after adding `device_setup` to the input argument. `launch_kernel!` also needs an `ndrange` which tells the full range the kernel should loop over. In this case we have `length(tendency)` elements to loop over. In the case of a two-dimensional / double loop, we would have to use the appropiate `size(....)` that the loop is looping over. "
   ]
  },
  {
   "cell_type": "code",
   "execution_count": 27,
   "metadata": {},
   "outputs": [
    {
     "data": {
      "text/plain": [
       "horizontal_diffusion! (generic function with 1 method)"
      ]
     },
     "execution_count": 27,
     "metadata": {},
     "output_type": "execute_result"
    }
   ],
   "source": [
    "function horizontal_diffusion!( tendency::LowerTriangularMatrix{Complex{NF}},   # tendency of a \n",
    "                                A::LowerTriangularMatrix{Complex{NF}},          # spectral horizontal field\n",
    "                                damp_expl::LowerTriangularMatrix{NF},           # explicit spectral damping\n",
    "                                damp_impl::LowerTriangularMatrix{NF},            # implicit spectral damping\n",
    "                                device_setup::SpeedyWeather.DeviceSetup,                      # device the function is executed on, we have to add that\n",
    "                                ) where {NF<:AbstractFloat}\n",
    "\n",
    "    @boundscheck size(A) == size(tendency) || throw(BoundsError())\n",
    "    @boundscheck size(A) == size(damp_expl) || throw(BoundsError())\n",
    "    @boundscheck size(A) == size(damp_impl) || throw(BoundsError())\n",
    "\n",
    "    ev = SpeedyWeather.launch_kernel!(device_setup, horizontal_diffusion_kernel!, length(tendency), tendency, A, damp_expl, damp_impl)\n",
    "    wait(ev)\n",
    "\n",
    "end \n"
   ]
  },
  {
   "cell_type": "markdown",
   "metadata": {},
   "source": [
    "Now we have to test if it works! We'll compare the old version to the KernelAbstractions version. "
   ]
  },
  {
   "cell_type": "code",
   "execution_count": 28,
   "metadata": {},
   "outputs": [],
   "source": [
    "vor_tend_old = deepcopy(vor_tend)\n",
    "vor_tend_new = deepcopy(vor_tend)\n",
    "\n",
    "SpeedyWeather.horizontal_diffusion!(vor_tend_old, vor, damping, damping_impl)\n",
    "horizontal_diffusion!(vor_tend_new, vor, damping, damping_impl, device)"
   ]
  },
  {
   "cell_type": "code",
   "execution_count": 29,
   "metadata": {},
   "outputs": [
    {
     "data": {
      "text/plain": [
       "\u001b[32m\u001b[1mTest Passed\u001b[22m\u001b[39m\n",
       "  Expression: vor_tend_old ≈ vor_tend_new\n",
       "   Evaluated: ComplexF32[-0.0f0 - 0.0f0im 0.0f0 + 0.0f0im … 0.0f0 + 0.0f0im 0.0f0 + 0.0f0im; -0.0f0 - 0.0f0im -0.0f0 - 0.0f0im … 0.0f0 + 0.0f0im 0.0f0 + 0.0f0im; … ; -0.0f0 - 0.0f0im -0.0f0 - 0.0f0im … -0.0f0 - 0.0f0im -0.0f0 - 0.0f0im; 0.0f0 + 0.0f0im 0.0f0 + 0.0f0im … 0.0f0 + 0.0f0im 0.0f0 + 0.0f0im] ≈ ComplexF32[-0.0f0 - 0.0f0im 0.0f0 + 0.0f0im … 0.0f0 + 0.0f0im 0.0f0 + 0.0f0im; -0.0f0 - 0.0f0im -0.0f0 - 0.0f0im … 0.0f0 + 0.0f0im 0.0f0 + 0.0f0im; … ; -0.0f0 - 0.0f0im -0.0f0 - 0.0f0im … -0.0f0 - 0.0f0im -0.0f0 - 0.0f0im; 0.0f0 + 0.0f0im 0.0f0 + 0.0f0im … 0.0f0 + 0.0f0im 0.0f0 + 0.0f0im]"
      ]
     },
     "execution_count": 29,
     "metadata": {},
     "output_type": "execute_result"
    }
   ],
   "source": [
    "@test vor_tend_old ≈ vor_tend_new"
   ]
  },
  {
   "cell_type": "markdown",
   "metadata": {},
   "source": [
    "Great! \n",
    "\n",
    "Next step, is to bring Enzyme in and show that it is differentiable. For this we'll have to allocate the shadow memory that stores the gradient information. "
   ]
  },
  {
   "cell_type": "code",
   "execution_count": 35,
   "metadata": {},
   "outputs": [],
   "source": [
    "∂vor_tend = one(vor_tend)\n",
    "∂vor = zero(vor)\n",
    "∂damping = zero(damping)\n",
    "∂damping_impl = zero(damping_impl);"
   ]
  },
  {
   "cell_type": "code",
   "execution_count": 38,
   "metadata": {},
   "outputs": [],
   "source": [
    "∇! = autodiff(horizontal_diffusion_kernel!(device.device_KA(), device.n))\n",
    "ev = ∇!(Duplicated(vor_tend, ∂vor_tend), Duplicated(vor, ∂vor), Duplicated(damping, ∂damping), \n",
    "    Duplicated(damping_impl, ∂damping_impl); ndrange=length(vor_tend))\n",
    "wait(ev)"
   ]
  },
  {
   "cell_type": "markdown",
   "metadata": {},
   "source": [
    "I don't know of an easy way to prove the derivatives are correct, but as Enzyme has the paradigm to through errors rather than incorrect gradients, let's hope for the best."
   ]
  },
  {
   "cell_type": "markdown",
   "metadata": {},
   "source": [
    "# How to submit \n",
    "\n",
    "Please submit all the functions as pull requests on GitHub into the `kernelabstractions_adtest` branch (not the main branch!), there will be a code review and then we accept it into the branch. \n",
    "\n",
    "The functions and for the AD test with Enzyme, we have seperate scripts in the test folder where they should be added "
   ]
  }
 ],
 "metadata": {
  "@webio": {
   "lastCommId": null,
   "lastKernelId": null
  },
  "kernelspec": {
   "display_name": "Julia 1.7.2",
   "language": "julia",
   "name": "julia-1.7"
  },
  "language_info": {
   "file_extension": ".jl",
   "mimetype": "application/julia",
   "name": "julia",
   "version": "1.7.2"
  }
 },
 "nbformat": 4,
 "nbformat_minor": 2
}
