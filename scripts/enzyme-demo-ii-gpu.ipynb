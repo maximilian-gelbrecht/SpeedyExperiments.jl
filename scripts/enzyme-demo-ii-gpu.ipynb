{
 "cells": [
  {
   "cell_type": "markdown",
   "id": "28378399",
   "metadata": {},
   "source": [
    "# Enzyme with GPU \n",
    "\n",
    "Now, we want to take the previous examples and do similar examples on GPU \n",
    "\n",
    "* 1) with CUDA.jl \n",
    "* 2) with KernelAbstractions\n",
    "\n",
    "With CUDA, as far as I know, only writing your own kernels is supported, not cuBLAS. All of my attempts to differentiate e.g. a standard `mul!` don't work. \n",
    "\n",
    "NOTE: The part with CUDA.jl will only work on GPUs, the part on KernelAbstraction works both on GPU and CPU"
   ]
  },
  {
   "cell_type": "markdown",
   "id": "f590d22e",
   "metadata": {},
   "source": [
    "## Enzyme with CUDA.jl\n",
    "\n",
    "We take the last example from the CPU notebook and try to do it on GPU with `CUDA.jl`\n",
    "\n",
    "For this purpose we have to write CUDA kernels"
   ]
  },
  {
   "cell_type": "code",
   "execution_count": 1,
   "id": "03984de2",
   "metadata": {},
   "outputs": [
    {
     "data": {
      "text/plain": [
       "\"/Users/max/Nextcloud/SpeedyExperiments/scripts\""
      ]
     },
     "execution_count": 1,
     "metadata": {},
     "output_type": "execute_result"
    }
   ],
   "source": [
    "pwd()"
   ]
  },
  {
   "cell_type": "code",
   "execution_count": 2,
   "id": "3664f59a",
   "metadata": {},
   "outputs": [
    {
     "name": "stderr",
     "output_type": "stream",
     "text": [
      "\u001b[32m\u001b[1m  Activating\u001b[22m\u001b[39m project at `~/Nextcloud/SpeedyExperiments/scripts`\n"
     ]
    }
   ],
   "source": [
    "import Pkg \n",
    "Pkg.activate(\".\") # make sure this is really the right environment\n",
    "using Enzyme, Test, CUDA, SpeedyExperiments, LinearAlgebra, Adapt\n",
    "CUDA.allowscalar(false)"
   ]
  },
  {
   "cell_type": "markdown",
   "id": "9c1ab407",
   "metadata": {},
   "source": [
    "Should be the scripts folder, otherwise change it. If you are using it for the first time, you might need to `]dev ..` the package again. In the `SpeedyExperiments` there are some utilities for GPU usage, like e.g:"
   ]
  },
  {
   "cell_type": "code",
   "execution_count": 3,
   "id": "ad4f411e",
   "metadata": {},
   "outputs": [
    {
     "name": "stdout",
     "output_type": "stream",
     "text": [
      "search: \u001b[0m\u001b[1mD\u001b[22m\u001b[0m\u001b[1me\u001b[22m\u001b[0m\u001b[1mv\u001b[22m\u001b[0m\u001b[1mi\u001b[22m\u001b[0m\u001b[1mc\u001b[22m\u001b[0m\u001b[1me\u001b[22m\u001b[0m\u001b[1mA\u001b[22m\u001b[0m\u001b[1mr\u001b[22m\u001b[0m\u001b[1mr\u001b[22m\u001b[0m\u001b[1ma\u001b[22m\u001b[0m\u001b[1my\u001b[22m Cu\u001b[0m\u001b[1mD\u001b[22m\u001b[0m\u001b[1me\u001b[22m\u001b[0m\u001b[1mv\u001b[22m\u001b[0m\u001b[1mi\u001b[22m\u001b[0m\u001b[1mc\u001b[22m\u001b[0m\u001b[1me\u001b[22m\u001b[0m\u001b[1mA\u001b[22m\u001b[0m\u001b[1mr\u001b[22m\u001b[0m\u001b[1mr\u001b[22m\u001b[0m\u001b[1ma\u001b[22m\u001b[0m\u001b[1my\u001b[22m \u001b[0m\u001b[1mD\u001b[22m\u001b[0m\u001b[1me\u001b[22m\u001b[0m\u001b[1mv\u001b[22m\u001b[0m\u001b[1mi\u001b[22m\u001b[0m\u001b[1mc\u001b[22m\u001b[0m\u001b[1me\u001b[22mSp\u001b[0m\u001b[1ma\u001b[22m\u001b[0m\u001b[1mr\u001b[22mseA\u001b[0m\u001b[1mr\u001b[22mr\u001b[0m\u001b[1ma\u001b[22m\u001b[0m\u001b[1my\u001b[22m Cu\u001b[0m\u001b[1mD\u001b[22m\u001b[0m\u001b[1me\u001b[22m\u001b[0m\u001b[1mv\u001b[22m\u001b[0m\u001b[1mi\u001b[22m\u001b[0m\u001b[1mc\u001b[22m\u001b[0m\u001b[1me\u001b[22mM\u001b[0m\u001b[1ma\u001b[22mt\u001b[0m\u001b[1mr\u001b[22mix\n",
      "\n"
     ]
    },
    {
     "data": {
      "text/latex": [
       "\\begin{verbatim}\n",
       "DeviceArray(x)\n",
       "\\end{verbatim}\n",
       "Returns a \\texttt{CuArray} when CUDA is used, otherwise a regular \\texttt{Array}\n",
       "\n"
      ],
      "text/markdown": [
       "```\n",
       "DeviceArray(x)\n",
       "```\n",
       "\n",
       "Returns a `CuArray` when CUDA is used, otherwise a regular `Array`\n"
      ],
      "text/plain": [
       "\u001b[36m  DeviceArray(x)\u001b[39m\n",
       "\n",
       "  Returns a \u001b[36mCuArray\u001b[39m when CUDA is used, otherwise a regular \u001b[36mArray\u001b[39m"
      ]
     },
     "execution_count": 3,
     "metadata": {},
     "output_type": "execute_result"
    }
   ],
   "source": [
    "?DeviceArray"
   ]
  },
  {
   "cell_type": "markdown",
   "id": "66a7f297",
   "metadata": {},
   "source": [
    "We adjust the example from the other notebook, but this time we use the GPU. In order to save some time writing the kernel, we just do an elementwise multiplication. Now let's try to take the derivative, for this we use `autodiff_deferred` instead of the regular `autodiff`. The syntax is the same, but it is adjusted for GPU usage. Note that we have to execute this as a kernel as well. "
   ]
  },
  {
   "cell_type": "code",
   "execution_count": 4,
   "id": "23cd4256",
   "metadata": {},
   "outputs": [],
   "source": [
    "function element_mul_kernel!(C, A, B)\n",
    "    i = threadIdx().x\n",
    "    C[i] = A[i]*B[i]\n",
    "    return nothing\n",
    "end\n",
    "\n",
    "function grad_mul_kernel!(C, dC, A, dA, B, dB)\n",
    "    Enzyme.autodiff_deferred(element_mul_kernel!, Const, Duplicated(C, dC), Duplicated(A, dA), Duplicated(B, dB))\n",
    "    return nothing\n",
    "end\n",
    "\n",
    "X_1 = DeviceArray(rand(3,3))\n",
    "∂X_1 = zero(X_1) # input, hence zero \n",
    "X_2 = DeviceArray(rand(size(X_1)...))\n",
    "∂X_2 = zero(X_2) # input, hence zero\n",
    "Y = DeviceArray(zeros(size(X_1)...))\n",
    "∂Y = fill!(similar(Y), 1); # output, hence something"
   ]
  },
  {
   "cell_type": "code",
   "execution_count": 5,
   "id": "37954eb5",
   "metadata": {},
   "outputs": [
    {
     "data": {
      "text/plain": [
       "CUDA.HostKernel{typeof(grad_mul_kernel!), NTuple{6, CuDeviceMatrix{Float64, 1}}}(grad_mul_kernel!, CuFunction(Ptr{Nothing} @0x000000000310c010, CuModule(Ptr{Nothing} @0x0000000005c623d0, CuContext(0x0000000002b402c0, instance e0ff3f39bda82691))), CUDA.KernelState(Ptr{Nothing} @0x00002b20e5a00000))"
      ]
     },
     "execution_count": 5,
     "metadata": {},
     "output_type": "execute_result"
    }
   ],
   "source": [
    "@cuda threads=length(X_1) grad_mul_kernel!(Y, ∂Y, X_1, ∂X_1, X_2, ∂X_2)"
   ]
  },
  {
   "cell_type": "code",
   "execution_count": 6,
   "id": "4fe4f487",
   "metadata": {},
   "outputs": [
    {
     "data": {
      "text/plain": [
       "\u001b[32m\u001b[1mTest Passed\u001b[22m\u001b[39m\n",
       "  Expression: Y ≈ X_1 .* X_2\n",
       "   Evaluated: [0.518367141735663 0.04514307627053391 0.183222686204985; 0.43110858915650235 0.3155912165251231 0.13808752179289513; 0.2107084030051926 0.06296262389166143 0.1821020051992087] ≈ [0.518367141735663 0.04514307627053391 0.183222686204985; 0.43110858915650235 0.3155912165251231 0.13808752179289513; 0.2107084030051926 0.06296262389166143 0.1821020051992087]"
      ]
     },
     "execution_count": 6,
     "metadata": {},
     "output_type": "execute_result"
    }
   ],
   "source": [
    "@test Y ≈ X_1 .* X_2"
   ]
  },
  {
   "cell_type": "code",
   "execution_count": 7,
   "id": "34f753a5",
   "metadata": {},
   "outputs": [
    {
     "data": {
      "text/plain": [
       "\u001b[32m\u001b[1mTest Passed\u001b[22m\u001b[39m\n",
       "  Expression: ∂X_1 ≈ X_2\n",
       "   Evaluated: [0.5825494050811111 0.9523803367679741 0.3894609012488429; 0.5902793013826094 0.5402133039887466 0.8606560948422022; 0.23473898524613512 0.08905694353173121 0.7137234003704515] ≈ [0.5825494050811111 0.9523803367679741 0.3894609012488429; 0.5902793013826094 0.5402133039887466 0.8606560948422022; 0.23473898524613512 0.08905694353173121 0.7137234003704515]"
      ]
     },
     "execution_count": 7,
     "metadata": {},
     "output_type": "execute_result"
    }
   ],
   "source": [
    "@test ∂X_1 ≈ X_2"
   ]
  },
  {
   "cell_type": "code",
   "execution_count": 8,
   "id": "c7dcb90d",
   "metadata": {
    "scrolled": true
   },
   "outputs": [
    {
     "data": {
      "text/plain": [
       "\u001b[32m\u001b[1mTest Passed\u001b[22m\u001b[39m\n",
       "  Expression: ∂X_2 ≈ X_1\n",
       "   Evaluated: [0.8898252014582151 0.04740026072328707 0.4704520675052727; 0.7303467835424993 0.5841974164555143 0.1604444825528284; 0.8976284990933854 0.7069928676502096 0.25514366644653985] ≈ [0.8898252014582151 0.04740026072328707 0.4704520675052727; 0.7303467835424993 0.5841974164555143 0.1604444825528284; 0.8976284990933854 0.7069928676502096 0.25514366644653985]"
      ]
     },
     "execution_count": 8,
     "metadata": {},
     "output_type": "execute_result"
    }
   ],
   "source": [
    "@test ∂X_2 ≈ X_1"
   ]
  },
  {
   "cell_type": "markdown",
   "id": "af849af2",
   "metadata": {},
   "source": [
    "Now, we do the same but with a struct."
   ]
  },
  {
   "cell_type": "markdown",
   "id": "6e0aa84c",
   "metadata": {},
   "source": [
    " If we use CUDA with custom structs, we have to make sure to use `Adapt` to make our structs avaliable to CUDA, [as explained here](https://cuda.juliagpu.org/stable/tutorials/custom_structs/). The struct also has to have (parametric) types defined, i.e without the `{S,T,U}` we would get an error!"
   ]
  },
  {
   "cell_type": "code",
   "execution_count": 9,
   "id": "3dd99a35",
   "metadata": {},
   "outputs": [
    {
     "data": {
      "text/plain": [
       "compute_elementwise_mul! (generic function with 1 method)"
      ]
     },
     "execution_count": 9,
     "metadata": {},
     "output_type": "execute_result"
    }
   ],
   "source": [
    "struct PreComputeMul{S,T,U} \n",
    "    Y::S\n",
    "    X_1::T\n",
    "    X_2::U\n",
    "    \n",
    "    function PreComputeMul(X,Y,Z) \n",
    "        @assert length(X) == length(Y) == length(Z)\n",
    "        new{typeof(X),typeof(Y),typeof(Z)}(X,Y,Z)\n",
    "    end \n",
    "end\n",
    "\n",
    "function Adapt.adapt_structure(to, m::PreComputeMul)\n",
    "    Y = Adapt.adapt_structure(to, m.Y)\n",
    "    X_1 = Adapt.adapt_structure(to, m.X_1)\n",
    "    X_2 = Adapt.adapt_structure(to, m.X_2)\n",
    "    PreComputeMul(Y, X_1, X_2)\n",
    "end\n",
    "\n",
    "function element_mul_kernel!(C::PreComputeMul)\n",
    "    i = threadIdx().x\n",
    "    C.Y[i] = C.X_1[i]*C.X_2[i]\n",
    "    return nothing\n",
    "end\n",
    "\n",
    "function compute_elementwise_mul!(X::PreComputeMul)\n",
    "    @cuda threads=length(X.Y) element_mul_kernel!(X.Y, X.X_1, X.X_2)\n",
    "end "
   ]
  },
  {
   "cell_type": "code",
   "execution_count": 10,
   "id": "b5e559ac",
   "metadata": {},
   "outputs": [
    {
     "data": {
      "text/plain": [
       "PreComputeMul{CuArray{Float64, 2, CUDA.Mem.DeviceBuffer}, CuArray{Float64, 2, CUDA.Mem.DeviceBuffer}, CuArray{Float64, 2, CUDA.Mem.DeviceBuffer}}([1.0 1.0 1.0; 1.0 1.0 1.0; 1.0 1.0 1.0], [0.0 0.0 0.0; 0.0 0.0 0.0; 0.0 0.0 0.0], [0.0 0.0 0.0; 0.0 0.0 0.0; 0.0 0.0 0.0])"
      ]
     },
     "execution_count": 10,
     "metadata": {},
     "output_type": "execute_result"
    }
   ],
   "source": [
    "X_1 = DeviceArray(rand(3,3))\n",
    "∂X_1 = zero(X_1) # input, hence zero \n",
    "X_2 = DeviceArray(rand(size(X_1)...))\n",
    "∂X_2 = zero(X_2) # input, hence zero\n",
    "Y = DeviceArray(zeros(size(X_1)...))\n",
    "∂Y = fill!(similar(Y), 1) # output, hence something\n",
    "\n",
    "X = PreComputeMul(Y, X_1, X_2)\n",
    "∂X = PreComputeMul(∂Y, ∂X_1, ∂X_2)"
   ]
  },
  {
   "cell_type": "markdown",
   "id": "99f1f177",
   "metadata": {},
   "source": [
    "The first way to compute this would also work without the `adapt_structure`:"
   ]
  },
  {
   "cell_type": "code",
   "execution_count": 11,
   "id": "906505fb",
   "metadata": {},
   "outputs": [
    {
     "data": {
      "text/plain": [
       "CUDA.HostKernel{typeof(element_mul_kernel!), Tuple{CuDeviceMatrix{Float64, 1}, CuDeviceMatrix{Float64, 1}, CuDeviceMatrix{Float64, 1}}}(element_mul_kernel!, CuFunction(Ptr{Nothing} @0x0000000011905e60, CuModule(Ptr{Nothing} @0x0000000011905cb0, CuContext(0x0000000002b402c0, instance e0ff3f39bda82691))), CUDA.KernelState(Ptr{Nothing} @0x00002b20e5a00000))"
      ]
     },
     "execution_count": 11,
     "metadata": {},
     "output_type": "execute_result"
    }
   ],
   "source": [
    "@cuda threads=length(X.Y) element_mul_kernel!(X.Y, X.X_1, X.X_2)"
   ]
  },
  {
   "cell_type": "markdown",
   "id": "0b8fd9ed",
   "metadata": {},
   "source": [
    "But for kernels that actually use the structs, we need it:"
   ]
  },
  {
   "cell_type": "code",
   "execution_count": 12,
   "id": "0cefaf23",
   "metadata": {},
   "outputs": [
    {
     "data": {
      "text/plain": [
       "CUDA.HostKernel{typeof(element_mul_kernel!), Tuple{PreComputeMul{CuDeviceMatrix{Float64, 1}, CuDeviceMatrix{Float64, 1}, CuDeviceMatrix{Float64, 1}}}}(element_mul_kernel!, CuFunction(Ptr{Nothing} @0x00000000115165b0, CuModule(Ptr{Nothing} @0x0000000007fb2fb0, CuContext(0x0000000002b402c0, instance e0ff3f39bda82691))), CUDA.KernelState(Ptr{Nothing} @0x00002b20e5a00000))"
      ]
     },
     "execution_count": 12,
     "metadata": {},
     "output_type": "execute_result"
    }
   ],
   "source": [
    "@cuda threads=length(X.Y) element_mul_kernel!(X)"
   ]
  },
  {
   "cell_type": "markdown",
   "id": "7449ceae",
   "metadata": {},
   "source": [
    "Test if the implementation works on GPU"
   ]
  },
  {
   "cell_type": "code",
   "execution_count": 13,
   "id": "f65038fd",
   "metadata": {},
   "outputs": [
    {
     "data": {
      "text/plain": [
       "\u001b[32m\u001b[1mTest Passed\u001b[22m\u001b[39m\n",
       "  Expression: X.Y ≈ X.X_1 .* X.X_2\n",
       "   Evaluated: [0.12712573852891057 0.23446725910034724 0.012028230568762222; 0.16900630393232668 0.6076334912688396 0.26773287122182476; 0.04430743480845625 0.06708683278909719 0.41290929450218006] ≈ [0.12712573852891057 0.23446725910034724 0.012028230568762222; 0.16900630393232668 0.6076334912688396 0.26773287122182476; 0.04430743480845625 0.06708683278909719 0.41290929450218006]"
      ]
     },
     "execution_count": 13,
     "metadata": {},
     "output_type": "execute_result"
    }
   ],
   "source": [
    "@test X.Y ≈ X.X_1 .* X.X_2"
   ]
  },
  {
   "cell_type": "markdown",
   "id": "cd5ae94c",
   "metadata": {},
   "source": [
    "Now, we can take the derivative similar to the example without the struct"
   ]
  },
  {
   "cell_type": "code",
   "execution_count": 14,
   "id": "b8674e84",
   "metadata": {},
   "outputs": [
    {
     "data": {
      "text/plain": [
       "grad_elementwise_mul_kernel! (generic function with 1 method)"
      ]
     },
     "execution_count": 14,
     "metadata": {},
     "output_type": "execute_result"
    }
   ],
   "source": [
    "function grad_elementwise_mul_kernel!(A, dA)\n",
    "    Enzyme.autodiff_deferred(element_mul_kernel!, Const, Duplicated(A, dA))\n",
    "    return nothing\n",
    "end"
   ]
  },
  {
   "cell_type": "code",
   "execution_count": 15,
   "id": "f9c226d4",
   "metadata": {},
   "outputs": [
    {
     "data": {
      "text/plain": [
       "CUDA.HostKernel{typeof(grad_elementwise_mul_kernel!), Tuple{PreComputeMul{CuDeviceMatrix{Float64, 1}, CuDeviceMatrix{Float64, 1}, CuDeviceMatrix{Float64, 1}}, PreComputeMul{CuDeviceMatrix{Float64, 1}, CuDeviceMatrix{Float64, 1}, CuDeviceMatrix{Float64, 1}}}}(grad_elementwise_mul_kernel!, CuFunction(Ptr{Nothing} @0x00000000121f7a10, CuModule(Ptr{Nothing} @0x000000001163bac0, CuContext(0x0000000002b402c0, instance e0ff3f39bda82691))), CUDA.KernelState(Ptr{Nothing} @0x00002b20e5a00000))"
      ]
     },
     "execution_count": 15,
     "metadata": {},
     "output_type": "execute_result"
    }
   ],
   "source": [
    "@cuda threads=length(X.Y) grad_elementwise_mul_kernel!(X, ∂X)"
   ]
  },
  {
   "cell_type": "code",
   "execution_count": 16,
   "id": "e84485ec",
   "metadata": {},
   "outputs": [
    {
     "data": {
      "text/plain": [
       "\u001b[32m\u001b[1mTest Passed\u001b[22m\u001b[39m\n",
       "  Expression: ∂X_1 ≈ X_2\n",
       "   Evaluated: [0.6757225470713533 0.6629617469870471 0.48239405723117035; 0.3404947156585928 0.708240345050117 0.28412692076096935; 0.1254104958726736 0.07725581087465527 0.7143499334334222] ≈ [0.6757225470713533 0.6629617469870471 0.48239405723117035; 0.3404947156585928 0.708240345050117 0.28412692076096935; 0.1254104958726736 0.07725581087465527 0.7143499334334222]"
      ]
     },
     "execution_count": 16,
     "metadata": {},
     "output_type": "execute_result"
    }
   ],
   "source": [
    "@test ∂X_1 ≈ X_2"
   ]
  },
  {
   "cell_type": "code",
   "execution_count": 17,
   "id": "b1b5899f",
   "metadata": {},
   "outputs": [
    {
     "data": {
      "text/plain": [
       "\u001b[32m\u001b[1mTest Passed\u001b[22m\u001b[39m\n",
       "  Expression: ∂X_2 ≈ X_1\n",
       "   Evaluated: [0.1881330422965547 0.35366634676273145 0.02493445014186424; 0.4963551449115172 0.8579481464386808 0.9423002597035267; 0.353299255378438 0.8683726444596267 0.5780210442767031] ≈ [0.1881330422965547 0.35366634676273145 0.02493445014186424; 0.4963551449115172 0.8579481464386808 0.9423002597035267; 0.353299255378438 0.8683726444596267 0.5780210442767031]"
      ]
     },
     "execution_count": 17,
     "metadata": {},
     "output_type": "execute_result"
    }
   ],
   "source": [
    "@test ∂X_2 ≈ X_1"
   ]
  },
  {
   "cell_type": "markdown",
   "id": "dab48942",
   "metadata": {},
   "source": [
    "## Enzyme with KernelAbstractions.jl \n",
    "\n",
    "Now we do the same but with `KernelAbstractions`. `KernelAbstractions` has the advantage that it works both on CPU and GPU, as we will also see in these examples. "
   ]
  },
  {
   "cell_type": "code",
   "execution_count": 3,
   "id": "11565baa",
   "metadata": {},
   "outputs": [],
   "source": [
    "using KernelAbstractions, CUDAKernels, KernelGradients "
   ]
  },
  {
   "cell_type": "markdown",
   "id": "712209ff",
   "metadata": {},
   "source": [
    "The syntax for the kernel is almost the same! The `@Const` marks input arguments that are not allowed to be mutated or aliases of other input arguments. It would work without it, but this optimizes the kernel. \n"
   ]
  },
  {
   "cell_type": "code",
   "execution_count": 4,
   "id": "21bc438c",
   "metadata": {},
   "outputs": [
    {
     "data": {
      "text/plain": [
       "KA_element_mul_kernel! (generic function with 5 methods)"
      ]
     },
     "execution_count": 4,
     "metadata": {},
     "output_type": "execute_result"
    }
   ],
   "source": [
    "@kernel function KA_element_mul_kernel!(C, @Const(A), @Const(B))\n",
    "    i, j = @index(Global, NTuple)\n",
    "    C[i,j] = A[i,j] * B[i,j]\n",
    "end"
   ]
  },
  {
   "cell_type": "markdown",
   "id": "c633b969",
   "metadata": {},
   "source": [
    "We have to launch it a bit different though. First we define a wrapper around the kernel"
   ]
  },
  {
   "cell_type": "code",
   "execution_count": 5,
   "id": "314c84d2",
   "metadata": {},
   "outputs": [
    {
     "data": {
      "text/plain": [
       "element_mul! (generic function with 1 method)"
      ]
     },
     "execution_count": 5,
     "metadata": {},
     "output_type": "execute_result"
    }
   ],
   "source": [
    "function element_mul!(a, b, c)\n",
    "    @assert size(a) == size(b) == size(c)\n",
    "  \n",
    "    device = KernelAbstractions.get_device(a) # here we determine if the array is on GPU or CPU\n",
    "    n = device isa GPU ? 256 : 4   # we split how \n",
    "    kernel! = KA_element_mul_kernel!(device, n)\n",
    "    kernel!(a, b, c, ndrange=size(c)) \n",
    "end\n"
   ]
  },
  {
   "cell_type": "markdown",
   "id": "ffb78409",
   "metadata": {},
   "source": [
    "Then, we launch it. With KernelAbstractions, we have to wait for all computations to be done manually."
   ]
  },
  {
   "cell_type": "code",
   "execution_count": 6,
   "id": "ebcf9868",
   "metadata": {},
   "outputs": [],
   "source": [
    "X_1 = DeviceArray(rand(256,256))\n",
    "X_2 = DeviceArray(rand(size(X_1)...))\n",
    "Y = DeviceArray(zeros(size(X_1)...))\n",
    "\n",
    "ev = element_mul!(Y, X_1, X_2)\n",
    "wait(ev)"
   ]
  },
  {
   "cell_type": "code",
   "execution_count": 7,
   "id": "f473848e",
   "metadata": {},
   "outputs": [
    {
     "data": {
      "text/plain": [
       "\u001b[32m\u001b[1mTest Passed\u001b[22m\u001b[39m\n",
       "  Expression: Y ≈ X_1 .* X_2\n",
       "   Evaluated: [0.004080368546444639 0.9043155088865072 … 0.07077905252442658 0.05363192270551029; 0.16882664261346356 0.5866150330869437 … 0.08470709940218783 0.026242189387002193; … ; 0.041947544993145985 0.6439503497476583 … 0.22806647617207776 0.0064231973111595715; 0.10623230790522847 0.027091019924623583 … 0.05309581572181774 0.12675056890341813] ≈ [0.004080368546444639 0.9043155088865072 … 0.07077905252442658 0.05363192270551029; 0.16882664261346356 0.5866150330869437 … 0.08470709940218783 0.026242189387002193; … ; 0.041947544993145985 0.6439503497476583 … 0.22806647617207776 0.0064231973111595715; 0.10623230790522847 0.027091019924623583 … 0.05309581572181774 0.12675056890341813]"
      ]
     },
     "execution_count": 7,
     "metadata": {},
     "output_type": "execute_result"
    }
   ],
   "source": [
    "@test Y ≈ X_1 .* X_2"
   ]
  },
  {
   "cell_type": "markdown",
   "id": "041cf737",
   "metadata": {},
   "source": [
    "If we'd want to, we could also write this a bit more compact: "
   ]
  },
  {
   "cell_type": "code",
   "execution_count": 8,
   "id": "0279d804",
   "metadata": {},
   "outputs": [
    {
     "data": {
      "text/latex": [
       "\\begin{verbatim}\n",
       "Device()\n",
       "\\end{verbatim}\n",
       "Return currently used device for KernelAbstractions, either \\texttt{CPU} or \\texttt{CUDADevice}\n",
       "\n"
      ],
      "text/markdown": [
       "```\n",
       "Device()\n",
       "```\n",
       "\n",
       "Return currently used device for KernelAbstractions, either `CPU` or `CUDADevice`\n"
      ],
      "text/plain": [
       "\u001b[36m  Device()\u001b[39m\n",
       "\n",
       "  Return currently used device for KernelAbstractions, either \u001b[36mCPU\u001b[39m or\n",
       "  \u001b[36mCUDADevice\u001b[39m"
      ]
     },
     "execution_count": 8,
     "metadata": {},
     "output_type": "execute_result"
    }
   ],
   "source": [
    "?SpeedyExperiments.Device"
   ]
  },
  {
   "cell_type": "code",
   "execution_count": 9,
   "id": "cbc245ad",
   "metadata": {},
   "outputs": [],
   "source": [
    "X_1 = DeviceArray(rand(256,256))\n",
    "X_2 = DeviceArray(rand(size(X_1)...))\n",
    "Y = DeviceArray(zeros(size(X_1)...))\n",
    "\n",
    "const device = SpeedyExperiments.Device()\n",
    "n = device isa GPU ? 256 : 4   # we split how \n",
    "\n",
    "wait(KA_element_mul_kernel!(device(), n)(Y, X_1, X_2, ndrange=size(Y)))"
   ]
  },
  {
   "cell_type": "code",
   "execution_count": 10,
   "id": "82919f56",
   "metadata": {},
   "outputs": [
    {
     "data": {
      "text/plain": [
       "\u001b[32m\u001b[1mTest Passed\u001b[22m\u001b[39m\n",
       "  Expression: Y ≈ X_1 .* X_2\n",
       "   Evaluated: [0.031525836235158214 0.07597293627416002 … 0.3900124829967884 0.24506803919395512; 0.02803691703362597 0.4145321860192378 … 0.25451746863793495 0.18423061770888527; … ; 0.07389615398436922 0.0615598767008774 … 0.6303968501185453 0.6018271499495584; 0.32663465913853057 0.04012554055577644 … 0.5291158689856843 0.4236591763498572] ≈ [0.031525836235158214 0.07597293627416002 … 0.3900124829967884 0.24506803919395512; 0.02803691703362597 0.4145321860192378 … 0.25451746863793495 0.18423061770888527; … ; 0.07389615398436922 0.0615598767008774 … 0.6303968501185453 0.6018271499495584; 0.32663465913853057 0.04012554055577644 … 0.5291158689856843 0.4236591763498572]"
      ]
     },
     "execution_count": 10,
     "metadata": {},
     "output_type": "execute_result"
    }
   ],
   "source": [
    "@test Y ≈ X_1 .* X_2"
   ]
  },
  {
   "cell_type": "markdown",
   "id": "7971955a",
   "metadata": {},
   "source": [
    "Now, let's compute the derivatives for this we have to call `autodiff` with the kernel function which in turn is called with the device and the work group size. Then we can call the kernel event created by `autodiff` with the `Duplicated` inputs "
   ]
  },
  {
   "cell_type": "code",
   "execution_count": 11,
   "id": "3c05ea1f",
   "metadata": {},
   "outputs": [],
   "source": [
    "X_1 = DeviceArray(rand(256,256))\n",
    "∂X_1 = zero(X_1) # input, hence zero \n",
    "X_2 = DeviceArray(rand(size(X_1)...))\n",
    "∂X_2 = zero(X_2) # input, hence zero\n",
    "Y = DeviceArray(zeros(size(X_1)...))\n",
    "∂Y = fill!(similar(Y), 1); # output, hence something"
   ]
  },
  {
   "cell_type": "code",
   "execution_count": 12,
   "id": "347fc29f",
   "metadata": {},
   "outputs": [],
   "source": [
    "∇! = autodiff(KA_element_mul_kernel!(device(), n))\n",
    "wait(∇!(Duplicated(Y, ∂Y), Duplicated(X_1,∂X_1), Duplicated(X_2,∂X_2); ndrange=size(Y)))"
   ]
  },
  {
   "cell_type": "code",
   "execution_count": 13,
   "id": "ba9aae94",
   "metadata": {},
   "outputs": [
    {
     "data": {
      "text/plain": [
       "\u001b[32m\u001b[1mTest Passed\u001b[22m\u001b[39m\n",
       "  Expression: ∂X_2 ≈ X_1\n",
       "   Evaluated: [0.4849006986370975 0.37813378438950895 … 0.8475662728169604 0.430769784826331; 0.9230358561586566 0.3960121700759315 … 0.44342469674852125 0.15950409722012893; … ; 0.6832069236075147 0.44790489127020927 … 0.8043176706509493 0.28177073185566814; 0.6623945231047209 0.11891028444588247 … 0.3972615116578413 0.6856090205211397] ≈ [0.4849006986370975 0.37813378438950895 … 0.8475662728169604 0.430769784826331; 0.9230358561586566 0.3960121700759315 … 0.44342469674852125 0.15950409722012893; … ; 0.6832069236075147 0.44790489127020927 … 0.8043176706509493 0.28177073185566814; 0.6623945231047209 0.11891028444588247 … 0.3972615116578413 0.6856090205211397]"
      ]
     },
     "execution_count": 13,
     "metadata": {},
     "output_type": "execute_result"
    }
   ],
   "source": [
    "@test ∂X_2 ≈ X_1"
   ]
  },
  {
   "cell_type": "code",
   "execution_count": 14,
   "id": "8db05134",
   "metadata": {},
   "outputs": [
    {
     "data": {
      "text/plain": [
       "\u001b[32m\u001b[1mTest Passed\u001b[22m\u001b[39m\n",
       "  Expression: ∂X_1 ≈ X_2\n",
       "   Evaluated: [0.8592885121353061 0.4278155350603593 … 0.15727044681588565 0.7475614986843266; 0.8717433078125162 0.4941278872225551 … 0.44855984012001493 0.9911128063246805; … ; 0.9182669423034203 0.11752918046760064 … 0.925919239995262 0.36151376995133777; 0.7928602512054792 0.5957790896537778 … 0.5514845686998056 0.4636690929932934] ≈ [0.8592885121353061 0.4278155350603593 … 0.15727044681588565 0.7475614986843266; 0.8717433078125162 0.4941278872225551 … 0.44855984012001493 0.9911128063246805; … ; 0.9182669423034203 0.11752918046760064 … 0.925919239995262 0.36151376995133777; 0.7928602512054792 0.5957790896537778 … 0.5514845686998056 0.4636690929932934]"
      ]
     },
     "execution_count": 14,
     "metadata": {},
     "output_type": "execute_result"
    }
   ],
   "source": [
    "@test ∂X_1 ≈ X_2"
   ]
  },
  {
   "cell_type": "markdown",
   "id": "144e3b82",
   "metadata": {},
   "source": [
    "Now, let's do this with a struct. First just the regular forward execution:"
   ]
  },
  {
   "cell_type": "code",
   "execution_count": 15,
   "id": "30661744",
   "metadata": {},
   "outputs": [
    {
     "data": {
      "text/plain": [
       "KAstruct_element_mul_kernel! (generic function with 5 methods)"
      ]
     },
     "execution_count": 15,
     "metadata": {},
     "output_type": "execute_result"
    }
   ],
   "source": [
    "struct KAPreComputeMul{S,T,U} \n",
    "    Y::S\n",
    "    X_1::T\n",
    "    X_2::U\n",
    "    \n",
    "    function KAPreComputeMul(X,Y,Z) \n",
    "        @assert size(X) == size(Y) == size(Z)\n",
    "        new{typeof(X),typeof(Y),typeof(Z)}(X,Y,Z)\n",
    "    end \n",
    "end\n",
    "\n",
    "@kernel function KAstruct_element_mul_kernel!(A)\n",
    "    i, j = @index(Global, NTuple)\n",
    "    A.Y[i,j] = A.X_1[i,j] * A.X_2[i,j]\n",
    "end\n",
    "\n",
    "\n"
   ]
  },
  {
   "cell_type": "code",
   "execution_count": 17,
   "id": "133aef25",
   "metadata": {},
   "outputs": [],
   "source": [
    "X_1 = DeviceArray(rand(256,256))\n",
    "X_2 = DeviceArray(rand(size(X_1)...))\n",
    "Y = DeviceArray(zeros(size(X_1)...))\n",
    "\n",
    "X = KAPreComputeMul(Y, X_1, X_2);"
   ]
  },
  {
   "cell_type": "code",
   "execution_count": 18,
   "id": "7f55782b",
   "metadata": {},
   "outputs": [],
   "source": [
    "wait(KAstruct_element_mul_kernel!(device(), n)(X, ndrange=size(X.Y)))"
   ]
  },
  {
   "cell_type": "code",
   "execution_count": 19,
   "id": "b7422cec",
   "metadata": {},
   "outputs": [
    {
     "data": {
      "text/plain": [
       "\u001b[32m\u001b[1mTest Passed\u001b[22m\u001b[39m\n",
       "  Expression: Y ≈ X_1 .* X_2\n",
       "   Evaluated: [0.3301541209620804 0.580555896689647 … 0.17765169008007817 0.03290889765257146; 0.20139468466718466 0.25206788278054865 … 0.16659489071421682 0.0451513064248377; … ; 0.318866316385818 0.1373982105414804 … 0.48359294501357847 0.7998793193429918; 0.05451786957137616 0.07832617240755971 … 0.5352945461050356 0.13283968682258013] ≈ [0.3301541209620804 0.580555896689647 … 0.17765169008007817 0.03290889765257146; 0.20139468466718466 0.25206788278054865 … 0.16659489071421682 0.0451513064248377; … ; 0.318866316385818 0.1373982105414804 … 0.48359294501357847 0.7998793193429918; 0.05451786957137616 0.07832617240755971 … 0.5352945461050356 0.13283968682258013]"
      ]
     },
     "execution_count": 19,
     "metadata": {},
     "output_type": "execute_result"
    }
   ],
   "source": [
    "@test Y ≈ X_1 .* X_2"
   ]
  },
  {
   "cell_type": "markdown",
   "id": "3a8ad067",
   "metadata": {},
   "source": [
    "Great, now let's also compute some derivatives here:"
   ]
  },
  {
   "cell_type": "code",
   "execution_count": 21,
   "id": "e1ce0c00",
   "metadata": {},
   "outputs": [
    {
     "data": {
      "text/plain": [
       "KAPreComputeMul{Matrix{Float64}, Matrix{Float64}, Matrix{Float64}}([1.0 1.0 … 1.0 1.0; 1.0 1.0 … 1.0 1.0; … ; 1.0 1.0 … 1.0 1.0; 1.0 1.0 … 1.0 1.0], [0.0 0.0 … 0.0 0.0; 0.0 0.0 … 0.0 0.0; … ; 0.0 0.0 … 0.0 0.0; 0.0 0.0 … 0.0 0.0], [0.0 0.0 … 0.0 0.0; 0.0 0.0 … 0.0 0.0; … ; 0.0 0.0 … 0.0 0.0; 0.0 0.0 … 0.0 0.0])"
      ]
     },
     "execution_count": 21,
     "metadata": {},
     "output_type": "execute_result"
    }
   ],
   "source": [
    "X_1 = DeviceArray(rand(256,256))\n",
    "∂X_1 = zero(X_1) # input, hence zero \n",
    "X_2 = DeviceArray(rand(size(X_1)...))\n",
    "∂X_2 = zero(X_2) # input, hence zero\n",
    "Y = DeviceArray(zeros(size(X_1)...))\n",
    "∂Y = fill!(similar(Y), 1) # output, hence something\n",
    "\n",
    "X = KAPreComputeMul(Y, X_1, X_2)\n",
    "∂X = KAPreComputeMul(∂Y, ∂X_1, ∂X_2)"
   ]
  },
  {
   "cell_type": "code",
   "execution_count": 22,
   "id": "ffbca1de",
   "metadata": {},
   "outputs": [],
   "source": [
    "∇! = autodiff(KAstruct_element_mul_kernel!(device(), n))\n",
    "wait(∇!(Duplicated(X, ∂X); ndrange=size(Y)))"
   ]
  },
  {
   "cell_type": "code",
   "execution_count": 23,
   "id": "c83fa4ee",
   "metadata": {},
   "outputs": [
    {
     "data": {
      "text/plain": [
       "\u001b[32m\u001b[1mTest Passed\u001b[22m\u001b[39m\n",
       "  Expression: ∂X_2 ≈ X_1\n",
       "   Evaluated: [0.29979379103443005 0.9235020762350673 … 0.2868482883717578 0.25899853314330157; 0.10217358278136734 0.5676732372408608 … 0.24207432814467766 0.8005602687345921; … ; 0.14158078085515546 0.17066995013824293 … 0.731331194896376 0.7818542661462423; 0.858094764413582 0.8342561525161541 … 0.8052198677497796 0.011702558521468065] ≈ [0.29979379103443005 0.9235020762350673 … 0.2868482883717578 0.25899853314330157; 0.10217358278136734 0.5676732372408608 … 0.24207432814467766 0.8005602687345921; … ; 0.14158078085515546 0.17066995013824293 … 0.731331194896376 0.7818542661462423; 0.858094764413582 0.8342561525161541 … 0.8052198677497796 0.011702558521468065]"
      ]
     },
     "execution_count": 23,
     "metadata": {},
     "output_type": "execute_result"
    }
   ],
   "source": [
    "@test ∂X_2 ≈ X_1"
   ]
  },
  {
   "cell_type": "code",
   "execution_count": 24,
   "id": "78fe7d1a",
   "metadata": {},
   "outputs": [
    {
     "data": {
      "text/plain": [
       "\u001b[32m\u001b[1mTest Passed\u001b[22m\u001b[39m\n",
       "  Expression: ∂X_1 ≈ X_2\n",
       "   Evaluated: [0.28407138003919263 0.583496276232759 … 0.8142553122082264 0.2764854349908631; 0.2078496455773844 0.8886070526803997 … 0.43291726250025897 0.9802051008855949; … ; 0.7974184596683417 0.7770545468535559 … 0.7125297874928762 0.46376083130345935; 0.17201805825290362 0.8998755117729266 … 0.36138431358805123 0.733282888241287] ≈ [0.28407138003919263 0.583496276232759 … 0.8142553122082264 0.2764854349908631; 0.2078496455773844 0.8886070526803997 … 0.43291726250025897 0.9802051008855949; … ; 0.7974184596683417 0.7770545468535559 … 0.7125297874928762 0.46376083130345935; 0.17201805825290362 0.8998755117729266 … 0.36138431358805123 0.733282888241287]"
      ]
     },
     "execution_count": 24,
     "metadata": {},
     "output_type": "execute_result"
    }
   ],
   "source": [
    "@test ∂X_1 ≈ X_2"
   ]
  }
 ],
 "metadata": {
  "@webio": {
   "lastCommId": null,
   "lastKernelId": null
  },
  "kernelspec": {
   "display_name": "Julia 1.7.2",
   "language": "julia",
   "name": "julia-1.7"
  },
  "language_info": {
   "file_extension": ".jl",
   "mimetype": "application/julia",
   "name": "julia",
   "version": "1.7.2"
  }
 },
 "nbformat": 4,
 "nbformat_minor": 5
}
